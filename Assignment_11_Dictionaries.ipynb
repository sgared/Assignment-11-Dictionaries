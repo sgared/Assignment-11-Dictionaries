{
 "cells": [
  {
   "metadata": {},
   "cell_type": "markdown",
   "source": [
    "INFO-B 210: Information Infrastructure I\n",
    "\n",
    "Assignment 11: Dictionaries"
   ],
   "id": "c5856ff5a5c594de"
  },
  {
   "metadata": {},
   "cell_type": "markdown",
   "source": "Write functions that address the following prompts. Your function should have proper documentation and error handling. In the main part of your program, you should call your function using the test cases listed below.",
   "id": "e3824d7805eb41c5"
  },
  {
   "metadata": {},
   "cell_type": "markdown",
   "source": "1.In the real world it is often convenient to collect the data and organize the data in a particular way. For example, if you are collecting information from a particular source it may make sense to organize that data under that person. However, when someone wants to extract meaningful insights from that data it is often necessary to change the way in which the data is organized. Create dictionaries to represent a standard deck fo 52 playing cards using the specified schema. (40 points)",
   "id": "201a565f9a2366e4"
  },
  {
   "metadata": {
    "ExecuteTime": {
     "end_time": "2024-04-17T03:16:49.868524Z",
     "start_time": "2024-04-17T03:16:49.852978Z"
    }
   },
   "cell_type": "code",
   "source": [
    "#a.{Suit : {Value : {}}}\n",
    "ranks = [\"A\",2,3,4,5,6,7,8,9,10,\"J\",\"Q\",\"K\"]\n",
    "suits = [\"Hearts\",\"Diamonds\",\"Clubs\",\"Spades\"]\n",
    "\n",
    "deck_of_cards_Dect = {}\n",
    "for i in suits:\n",
    "    deck_of_cards_Dect[i] = {}\n",
    "    for j in ranks:\n",
    "        deck_of_cards_Dect[i][j] = j\n",
    "        \n",
    "# Printing  the deck of cards nicely\n",
    "\n",
    "for suit, cards in deck_of_cards_Dect.items():\n",
    "    print(f\"{suit}:\")\n",
    "    for value in cards.values():\n",
    "        print(value)\n",
    "    print(\"\\n\")"
   ],
   "id": "fbb8731065d1b800",
   "outputs": [
    {
     "name": "stdout",
     "output_type": "stream",
     "text": [
      "Hearts:\n",
      "A\n",
      "2\n",
      "3\n",
      "4\n",
      "5\n",
      "6\n",
      "7\n",
      "8\n",
      "9\n",
      "10\n",
      "J\n",
      "Q\n",
      "K\n",
      "\n",
      "\n",
      "Diamonds:\n",
      "A\n",
      "2\n",
      "3\n",
      "4\n",
      "5\n",
      "6\n",
      "7\n",
      "8\n",
      "9\n",
      "10\n",
      "J\n",
      "Q\n",
      "K\n",
      "\n",
      "\n",
      "Clubs:\n",
      "A\n",
      "2\n",
      "3\n",
      "4\n",
      "5\n",
      "6\n",
      "7\n",
      "8\n",
      "9\n",
      "10\n",
      "J\n",
      "Q\n",
      "K\n",
      "\n",
      "\n",
      "Spades:\n",
      "A\n",
      "2\n",
      "3\n",
      "4\n",
      "5\n",
      "6\n",
      "7\n",
      "8\n",
      "9\n",
      "10\n",
      "J\n",
      "Q\n",
      "K\n",
      "\n",
      "\n"
     ]
    }
   ],
   "execution_count": 19
  },
  {
   "metadata": {
    "ExecuteTime": {
     "end_time": "2024-04-17T03:16:49.915949Z",
     "start_time": "2024-04-17T03:16:49.893941Z"
    }
   },
   "cell_type": "code",
   "source": "#b.{Value : {Suit : {}}}",
   "id": "c0e03c407514834e",
   "outputs": [],
   "execution_count": 20
  },
  {
   "metadata": {},
   "cell_type": "markdown",
   "source": "2.Proteins are a class of macromolecules that play a variety of vital functions in living organisms. Proteins are synthesized using an RNA molecule as a template. Every 3 nucleotides in an RNA molecule are correspond to a particular amino acid. Write a function that takes an RNA molecule as an input and will output the encoded protein. Include 2 optional arguments, the first one for printing the length of the encoded protein, and a second one that will print the most commonly occurring codon (set of 3 nucleotides). You may find the corresponding codon table at the following link useful.",
   "id": "5ab4bfacd920791f"
  },
  {
   "metadata": {
    "ExecuteTime": {
     "end_time": "2024-04-17T03:16:49.931878Z",
     "start_time": "2024-04-17T03:16:49.918739Z"
    }
   },
   "cell_type": "code",
   "source": [
    "#This is a function that contains standard RNA codon\n",
    "def fun_rna(a,rna=\"ABC\",rna1=\"CTA\"):\n",
    "    leng = 0\n",
    "    most_common = {}\n",
    "    #code table for refernce\n",
    "    codon_table = {\n",
    "        \"UUU\": \"Phe\", \"UUC\": \"Phe\", \"UUA\": \"Leu\", \"UUG\": \"Leu\",\n",
    "        \"UCU\": \"Ser\", \"UCC\": \"Ser\", \"UCA\": \"Ser\", \"UCG\": \"Ser\",\n",
    "        \"UAU\": \"Tyr\", \"UAC\": \"Tyr\", \"UAA\": \"STOP\", \"UAG\": \"STOP\",\n",
    "        \"UGU\": \"Cys\", \"UGC\": \"Cys\", \"UGA\": \"STOP\", \"UGG\": \"Trp\",\n",
    "        \"CUU\": \"Leu\", \"CUC\": \"Leu\", \"CUA\": \"Leu\", \"CUG\": \"Leu\",\n",
    "        \"CCU\": \"Pro\", \"CCC\": \"Pro\", \"CCA\": \"Pro\", \"CCG\": \"Pro\",\n",
    "        \"CAU\": \"His\", \"CAC\": \"His\", \"CAA\": \"Gln\", \"CAG\": \"Gln\",\n",
    "        \"CGU\": \"Arg\", \"CGC\": \"Arg\", \"CGA\": \"Arg\", \"CGG\": \"Arg\",\n",
    "        \"AUU\": \"Ile\", \"AUC\": \"Ile\", \"AUA\": \"Ile\", \"AUG\": \"Met\",\n",
    "        \"ACU\": \"Thr\", \"ACC\": \"Thr\", \"ACA\": \"Thr\", \"ACG\": \"Thr\",\n",
    "        \"AAU\": \"Asn\", \"AAC\": \"Asn\", \"AAA\": \"Lys\", \"AAG\": \"Lys\",\n",
    "        \"AGU\": \"Ser\", \"AGC\": \"Ser\", \"AGA\": \"Arg\", \"AGG\": \"Arg\",\n",
    "        \"GUU\": \"Val\", \"GUC\": \"Val\", \"GUA\": \"Val\", \"GUG\": \"Val\",\n",
    "        \"GCU\": \"Ala\", \"GCC\": \"Ala\", \"GCA\": \"Ala\", \"GCG\": \"Ala\",\n",
    "        \"GAU\": \"Asp\", \"GAC\": \"Asp\", \"GAA\": \"Glu\", \"GAG\": \"Glu\",\n",
    "        \"GGU\": \"Gly\", \"GGC\": \"Gly\", \"GGA\": \"Gly\", \"GGG\": \"Gly\"\n",
    "    }\n",
    "    \n",
    "    # Iterate over every three characters in the RNA sequence\n",
    "    for i in range(0, len(a), 3):\n",
    "        codon = a[i:i+3]  # Extract a set of three characters\n",
    "        \n",
    "        # Check if the extracted set of characters forms a valid codon\n",
    "        if codon in codon_table:\n",
    "            leng += 1  # Increment the length variable\n",
    "            \n",
    "            # Update the most_common dictionary with the codon\n",
    "            most_common.update({codon: codon_table[codon]})\n",
    "    \n",
    "    return leng,most_common\n",
    "      "
   ],
   "id": "7cf20a3a8a5f980f",
   "outputs": [],
   "execution_count": 21
  },
  {
   "metadata": {
    "ExecuteTime": {
     "end_time": "2024-04-17T03:16:49.947769Z",
     "start_time": "2024-04-17T03:16:49.934057Z"
    }
   },
   "cell_type": "code",
   "source": [
    "#a.AGCCCTCCAGGACAGGCTGCATCAGAAGAGGCCATCAAGCAGGTCTGTTCCAAGGGCCTTTGCGTCAGGT\n",
    "a,b = fun_rna(\"AGCCCTCCAGGACAGGCTGCATCAGAAGAGGCCATCAAGCAGGTCTGTTCCAAGGGCCTTTGCGTCAGGT\")\n",
    "print(f\"length : {a}\")\n",
    "print(f\"Most common codon: {b}\")"
   ],
   "id": "ed3b342f3bb9318c",
   "outputs": [
    {
     "name": "stdout",
     "output_type": "stream",
     "text": [
      "length : 13\n",
      "Most common codon: {'AGC': 'Ser', 'CCA': 'Pro', 'GGA': 'Gly', 'CAG': 'Gln', 'GCA': 'Ala', 'GAA': 'Glu', 'GAG': 'Glu', 'GCC': 'Ala', 'AAG': 'Lys', 'GGC': 'Gly', 'AGG': 'Arg'}\n"
     ]
    }
   ],
   "execution_count": 22
  },
  {
   "metadata": {},
   "cell_type": "markdown",
   "source": [
    "GGGCTCAGGATTCCAGGGTGGCTGGACCCCAGGCCCCAGCTCTGCAGCAGGGAGGACGTGGCTGGGCTCG\n",
    "TGAAGCATGTGGGGGTGAGCCCAGGGGCCCCAAGGCAGGGCACCTGGCCTTCAGCCTGCCTCAGCCCTGC\n",
    "CTGTCTCCCAGATCACTGTCCTTCTGCCATGGCCCTGTGGATGCGCCTCCTGCCCCTGCTGGCGCTGCTG\n",
    "GCCCTCTGGGGACCTGACCCAGCCGCAGCCTTTGTGAACCAACACCTGTGCGGCTCACACCTGGTGGAAG\n",
    "CTCTCTACCTAGTGTGCGGGGAACGAGGCTTCTTCTACACACCCAAGACCCGCCGGGAGGCAGAGGACCT\n",
    "GCAGGGTGAGCCAACTGCCCATTGCTGCCCCTGGCCGCCCCCAGCCACCCCCTGCTCCTGGCGCTCCCAC\n",
    "CCAGCATGGGCAGAAGGGGGCAGGAGGCTGCCACCCAGCAGGGGGTCAGGTGCACTTTTTTAAAAAGAAG\n",
    "TTCTCTTGGTCACGTCCTAAAAGTGACCAGCTCCCTGTGGCCCAGTCAGAATCTCAGCCTGAGGACGGTG\n",
    "TTGGCTTCGGCAGCCCCGAGATACATCAGAGGGTGGGCACGCTCCTCCCTCCACTCGCCCCTCAAACAAA\n",
    "TGCCCCGCAGCCCATTTCTCCACCCTCATTTGATGACCGCAGATTCAAGTGTTTTGTTAAGTAAAGTCCT\n",
    "GGGTGACCTGGGGTCACAGGGTGCCCCACGCTGCCTGCCTCTGGGCGAACACCCCATCACGCCCGGAGGA\n",
    "GGGCGTGGCTGCCTGCCTGAGTGGGCCAGACCCCTGTCGCCAGGCCTCACGGCAGCTCCATAGTCAGGAG\n",
    "ATGGGGAAGATGCTGGGGACAGGCCCTGGGGAGAAGTACTGGGATCACCTGTTCAGGCTCCCACTGTGAC\n",
    "GCTGCCCCGGGGCGGGGGAAGGAGGTGGGACATGTGGGCGTTGGGGCCTGTAGGTCCACACCCAGTGTGG\n",
    "GTGACCCTCCCTCTAACCTGGGTCCAGCCCGGCTGGAGATGGGTGGGAGTGCGACCTAGGGCTGGCGGGC\n",
    "AGGCGGGCACTGTGTCTCCCTGACTGTGTCCTCCTGTGTCCCTCTGCCTCGCCGCTGTTCCGGAACCTGC\n",
    "TCTGCGCGGCACGTCCTGGCAGTGGGGCAGGTGGAGCTGGGCGGGGGCCCTGGTGCAGGCAGCCTGCAGC\n",
    "CCTTGGCCCTGGAGGGGTCCCTGCAGAAGCGTGGCATTGTGGAACAATGCTGTACCAGCATCTGCTCCCT\n",
    "CTACCAGCTGGAGAACTACTGCAACTAGACGCAGCCCGCAGGCAGCCCCACACCCGCCGCCTCCTGCACC\n",
    "\n",
    "GAGAGAGATGGAATAAAGCCCTTGAACCAGC\n"
   ],
   "id": "b981152e00a8e79c"
  },
  {
   "metadata": {
    "ExecuteTime": {
     "end_time": "2024-04-17T03:16:49.963832Z",
     "start_time": "2024-04-17T03:16:49.947769Z"
    }
   },
   "cell_type": "code",
   "source": [
    "result,most_num = fun_rna(\"GGGCTCAGGATTCCAGGGTGGCTGGACCCCAGGCCCCAGCTCTGCAGCAGGGAGGACGTGGCTGGGCTCGTGAAGCATGTGGGGGTGAGCCCAGGGGCCCCAAGGCAGGGCACCTGGCCTTCAGCCTGCCTCAGCCCTGCCTGTCTCCCAGATCACTGTCCTTCTGCCATGGCCCTGTGGATGCGCCTCCTGCCCCTGCTGGCGCTGCTGGCCCTCTGGGGACCTGACCCAGCCGCAGCCTTTGTGAACCAACACCTGTGCGGCTCACACCTGGTGGAAGCTCTCTACCTAGTGTGCGGGGAACGAGGCTTCTTCTACACACCCAAGACCCGCCGGGAGGCAGAGGACCTGCAGGGTGAGCCAACTGCCCATTGCTGCCCCTGGCCGCCCCCAGCCACCCCCTGCTCCTGGCGCTCCCACCCAGCATGGGCAGAAGGGGGCAGGAGGCTGCCACCCAGCAGGGGGTCAGGTGCACTTTTTTAAAAAGAAGTTCTCTTGGTCACGTCCTAAAAGTGACCAGCTCCCTGTGGCCCAGTCAGAATCTCAGCCTGAGGACGGTGTTGGCTTCGGCAGCCCCGAGATACATCAGAGGGTGGGCACGCTCCTCCCTCCACTCGCCCCTCAAACAAATGCCCCGCAGCCCATTTCTCCACCCTCATTTGATGACCGCAGATTCAAGTGTTTTGTTAAGTAAAGTCCTGGGTGACCTGGGGTCACAGGGTGCCCCACGCTGCCTGCCTCTGGGCGAACACCCCATCACGCCCGGAGGAGGGCGTGGCTGCCTGCCTGAGTGGGCCAGACCCCTGTCGCCAGGCCTCACGGCAGCTCCATAGTCAGGAGATGGGGAAGATGCTGGGGACAGGCCCTGGGGAGAAGTACTGGGATCACCTGTTCAGGCTCCCACTGTGACGCTGCCCCGGGGCGGGGGAAGGAGGTGGGACATGTGGGCGTTGGGGCCTGTAGGTCCACACCCAGTGTGGGTGACCCTCCCTCTAACCTGGGTCCAGCCCGGCTGGAGATGGGTGGGAGTGCGACCTAGGGCTGGCGGGCAGGCGGGCACTGTGTCTCCCTGACTGTGTCCTCCTGTGTCCCTCTGCCTCGCCGCTGTTCCGGAACCTGCTCTGCGCGGCACGTCCTGGCAGTGGGGCAGGTGGAGCTGGGCGGGGGCCCTGGTGCAGGCAGCCTGCAGCCCTTGGCCCTGGAGGGGTCCCTGCAGAAGCGTGGCATTGTGGAACAATGCTGTACCAGCATCTGCTCCCTCTACCAGCTGGAGAACTACTGCAACTAGACGCAGCCCGCAGGCAGCCCCACACCCGCCGCCTCCTGCACCGAGAGAGATGGAATAAAGCCCTTGAACCAGC\")\n",
    "print(f\"length : {result}\")\n",
    "print(f\"Most common codon: {most_num}\")"
   ],
   "id": "d1b942d2bb8971ba",
   "outputs": [
    {
     "name": "stdout",
     "output_type": "stream",
     "text": [
      "length : 241\n",
      "Most common codon: {'GGG': 'Gly', 'AGG': 'Arg', 'CCA': 'Pro', 'GAC': 'Asp', 'CCC': 'Pro', 'CAG': 'Gln', 'AGC': 'Ser', 'GAG': 'Glu', 'AAG': 'Lys', 'GCC': 'Ala', 'GGC': 'Gly', 'ACC': 'Thr', 'CAC': 'His', 'CGC': 'Arg', 'GCG': 'Ala', 'GGA': 'Gly', 'GCA': 'Ala', 'AAC': 'Asn', 'CAA': 'Gln', 'GAA': 'Glu', 'CGA': 'Arg', 'ACA': 'Thr', 'CGG': 'Arg', 'CCG': 'Pro', 'AAA': 'Lys', 'ACG': 'Thr', 'AGA': 'Arg'}\n"
     ]
    }
   ],
   "execution_count": 23
  },
  {
   "metadata": {},
   "cell_type": "markdown",
   "source": "",
   "id": "5f4661c8f581e526"
  },
  {
   "metadata": {},
   "cell_type": "markdown",
   "source": "",
   "id": "73da00a175f37616"
  },
  {
   "metadata": {},
   "cell_type": "markdown",
   "source": "",
   "id": "ecc0be6f2268a186"
  }
 ],
 "metadata": {
  "kernelspec": {
   "display_name": "Python 3",
   "language": "python",
   "name": "python3"
  },
  "language_info": {
   "codemirror_mode": {
    "name": "ipython",
    "version": 2
   },
   "file_extension": ".py",
   "mimetype": "text/x-python",
   "name": "python",
   "nbconvert_exporter": "python",
   "pygments_lexer": "ipython2",
   "version": "2.7.6"
  }
 },
 "nbformat": 4,
 "nbformat_minor": 5
}
